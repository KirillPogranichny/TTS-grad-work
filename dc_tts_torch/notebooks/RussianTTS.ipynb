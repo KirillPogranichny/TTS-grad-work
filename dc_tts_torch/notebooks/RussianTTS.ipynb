{
 "cells": [
  {
   "cell_type": "code",
   "id": "initial_id",
   "metadata": {
    "collapsed": true,
    "ExecuteTime": {
     "end_time": "2024-05-10T03:43:14.699636Z",
     "start_time": "2024-05-10T03:43:14.086568Z"
    }
   },
   "source": "import pandas as pd",
   "outputs": [],
   "execution_count": 1
  },
  {
   "metadata": {
    "ExecuteTime": {
     "end_time": "2024-05-10T04:07:49.487516Z",
     "start_time": "2024-05-10T04:07:49.448683Z"
    }
   },
   "cell_type": "code",
   "source": [
    "data = pd.read_csv('C:/Study/TTS-grad-work/dc_tts_torch/datasets/RUSpeechDataset/metadata.csv', delimiter='|', header=None, encoding='utf-8')\n",
    "data.columns = ['filename', 'text_1', 'text_2']"
   ],
   "id": "cac97fe29ed98476",
   "outputs": [],
   "execution_count": 19
  },
  {
   "metadata": {
    "ExecuteTime": {
     "end_time": "2024-05-10T04:07:49.959203Z",
     "start_time": "2024-05-10T04:07:49.953938Z"
    }
   },
   "cell_type": "code",
   "source": "display(data)",
   "id": "fa323455192ba15c",
   "outputs": [
    {
     "data": {
      "text/plain": [
       "                                  filename  \\\n",
       "0             early_short_stories_0001.wav   \n",
       "1             early_short_stories_0002.wav   \n",
       "2             early_short_stories_0003.wav   \n",
       "3             early_short_stories_0004.wav   \n",
       "4             early_short_stories_0005.wav   \n",
       "...                                    ...   \n",
       "9594  shortstories_childrenadults_3878.wav   \n",
       "9595  shortstories_childrenadults_3879.wav   \n",
       "9596  shortstories_childrenadults_3880.wav   \n",
       "9597  shortstories_childrenadults_3881.wav   \n",
       "9598  shortstories_childrenadults_3882.wav   \n",
       "\n",
       "                                                 text_1  \\\n",
       "0     За столицей мудрого царя Соломона шелестел по ...   \n",
       "1     где происходили свидания Ариэля и Тамары. Ему ...   \n",
       "2     Но Ариэль был сыном знатного иерусалимца, одно...   \n",
       "3     и его волосы были черны, как ночь, а глаза — к...   \n",
       "4     не дозволялось обитать среди иудеев, и ее мягк...   \n",
       "...                                                 ...   \n",
       "9594  истерзал его, смял и, держа его в руке, вернул...   \n",
       "9595  Больной, едва дойдя до постели, рухнул на неё ...   \n",
       "9596  Лицо его было спокойно и светло; истощённые че...   \n",
       "9597  выражали какое-то горделивое счастье. Когда ег...   \n",
       "9598  попробовали разжать руку и вынуть красный цвет...   \n",
       "\n",
       "                                                 text_2  \n",
       "0     За столицей мудрого царя Соломона шелестел по ...  \n",
       "1     где происходили свидания Ариэля и Тамары. Ему ...  \n",
       "2     Но Ариэль был сыном знатного иерусалимца, одно...  \n",
       "3     и его волосы были черны, как ночь, а глаза — к...  \n",
       "4     не дозволялось обитать среди иудеев, и ее мягк...  \n",
       "...                                                 ...  \n",
       "9594  истерзал его, смял и, держа его в руке, вернул...  \n",
       "9595  Больной, едва дойдя до постели, рухнул на неё ...  \n",
       "9596  Лицо его было спокойно и светло; истощённые че...  \n",
       "9597  выражали какое-то горделивое счастье. Когда ег...  \n",
       "9598  попробовали разжать руку и вынуть красный цвет...  \n",
       "\n",
       "[9599 rows x 3 columns]"
      ],
      "text/html": [
       "<div>\n",
       "<style scoped>\n",
       "    .dataframe tbody tr th:only-of-type {\n",
       "        vertical-align: middle;\n",
       "    }\n",
       "\n",
       "    .dataframe tbody tr th {\n",
       "        vertical-align: top;\n",
       "    }\n",
       "\n",
       "    .dataframe thead th {\n",
       "        text-align: right;\n",
       "    }\n",
       "</style>\n",
       "<table border=\"1\" class=\"dataframe\">\n",
       "  <thead>\n",
       "    <tr style=\"text-align: right;\">\n",
       "      <th></th>\n",
       "      <th>filename</th>\n",
       "      <th>text_1</th>\n",
       "      <th>text_2</th>\n",
       "    </tr>\n",
       "  </thead>\n",
       "  <tbody>\n",
       "    <tr>\n",
       "      <th>0</th>\n",
       "      <td>early_short_stories_0001.wav</td>\n",
       "      <td>За столицей мудрого царя Соломона шелестел по ...</td>\n",
       "      <td>За столицей мудрого царя Соломона шелестел по ...</td>\n",
       "    </tr>\n",
       "    <tr>\n",
       "      <th>1</th>\n",
       "      <td>early_short_stories_0002.wav</td>\n",
       "      <td>где происходили свидания Ариэля и Тамары. Ему ...</td>\n",
       "      <td>где происходили свидания Ариэля и Тамары. Ему ...</td>\n",
       "    </tr>\n",
       "    <tr>\n",
       "      <th>2</th>\n",
       "      <td>early_short_stories_0003.wav</td>\n",
       "      <td>Но Ариэль был сыном знатного иерусалимца, одно...</td>\n",
       "      <td>Но Ариэль был сыном знатного иерусалимца, одно...</td>\n",
       "    </tr>\n",
       "    <tr>\n",
       "      <th>3</th>\n",
       "      <td>early_short_stories_0004.wav</td>\n",
       "      <td>и его волосы были черны, как ночь, а глаза — к...</td>\n",
       "      <td>и его волосы были черны, как ночь, а глаза — к...</td>\n",
       "    </tr>\n",
       "    <tr>\n",
       "      <th>4</th>\n",
       "      <td>early_short_stories_0005.wav</td>\n",
       "      <td>не дозволялось обитать среди иудеев, и ее мягк...</td>\n",
       "      <td>не дозволялось обитать среди иудеев, и ее мягк...</td>\n",
       "    </tr>\n",
       "    <tr>\n",
       "      <th>...</th>\n",
       "      <td>...</td>\n",
       "      <td>...</td>\n",
       "      <td>...</td>\n",
       "    </tr>\n",
       "    <tr>\n",
       "      <th>9594</th>\n",
       "      <td>shortstories_childrenadults_3878.wav</td>\n",
       "      <td>истерзал его, смял и, держа его в руке, вернул...</td>\n",
       "      <td>истерзал его, смял и, держа его в руке, вернул...</td>\n",
       "    </tr>\n",
       "    <tr>\n",
       "      <th>9595</th>\n",
       "      <td>shortstories_childrenadults_3879.wav</td>\n",
       "      <td>Больной, едва дойдя до постели, рухнул на неё ...</td>\n",
       "      <td>Больной, едва дойдя до постели, рухнул на неё ...</td>\n",
       "    </tr>\n",
       "    <tr>\n",
       "      <th>9596</th>\n",
       "      <td>shortstories_childrenadults_3880.wav</td>\n",
       "      <td>Лицо его было спокойно и светло; истощённые че...</td>\n",
       "      <td>Лицо его было спокойно и светло; истощённые че...</td>\n",
       "    </tr>\n",
       "    <tr>\n",
       "      <th>9597</th>\n",
       "      <td>shortstories_childrenadults_3881.wav</td>\n",
       "      <td>выражали какое-то горделивое счастье. Когда ег...</td>\n",
       "      <td>выражали какое-то горделивое счастье. Когда ег...</td>\n",
       "    </tr>\n",
       "    <tr>\n",
       "      <th>9598</th>\n",
       "      <td>shortstories_childrenadults_3882.wav</td>\n",
       "      <td>попробовали разжать руку и вынуть красный цвет...</td>\n",
       "      <td>попробовали разжать руку и вынуть красный цвет...</td>\n",
       "    </tr>\n",
       "  </tbody>\n",
       "</table>\n",
       "<p>9599 rows × 3 columns</p>\n",
       "</div>"
      ]
     },
     "metadata": {},
     "output_type": "display_data"
    }
   ],
   "execution_count": 20
  },
  {
   "metadata": {
    "ExecuteTime": {
     "end_time": "2024-05-10T04:11:04.316216Z",
     "start_time": "2024-05-10T04:11:04.271808Z"
    }
   },
   "cell_type": "code",
   "source": "data.to_csv('metadata.csv', index=False, sep='|', encoding='utf-8', header=None)",
   "id": "b5fa212adc393895",
   "outputs": [],
   "execution_count": 22
  },
  {
   "metadata": {},
   "cell_type": "code",
   "outputs": [],
   "execution_count": null,
   "source": "",
   "id": "cba9acbca7520e86"
  }
 ],
 "metadata": {
  "kernelspec": {
   "display_name": "Python 3",
   "language": "python",
   "name": "python3"
  },
  "language_info": {
   "codemirror_mode": {
    "name": "ipython",
    "version": 2
   },
   "file_extension": ".py",
   "mimetype": "text/x-python",
   "name": "python",
   "nbconvert_exporter": "python",
   "pygments_lexer": "ipython2",
   "version": "2.7.6"
  }
 },
 "nbformat": 4,
 "nbformat_minor": 5
}
